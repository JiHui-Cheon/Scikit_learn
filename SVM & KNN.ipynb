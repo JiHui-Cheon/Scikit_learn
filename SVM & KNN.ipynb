{
 "cells": [
  {
   "cell_type": "markdown",
   "id": "999eeb60",
   "metadata": {},
   "source": [
    "## Support_Vector_machine"
   ]
  },
  {
   "cell_type": "code",
   "execution_count": 5,
   "id": "13369d94",
   "metadata": {},
   "outputs": [],
   "source": [
    "from sklearn import datasets\n",
    "iris = datasets.load_iris()\n",
    "X = iris.data\n",
    "y = iris.target\n",
    "from sklearn.model_selection import train_test_split\n",
    "X_train, X_test, y_train, y_test = train_test_split(X, y, test_size = .5)"
   ]
  },
  {
   "cell_type": "code",
   "execution_count": 6,
   "id": "b0235d93",
   "metadata": {},
   "outputs": [
    {
     "name": "stdout",
     "output_type": "stream",
     "text": [
      "[1 2 0 1 1 2 2 0 2 2 0 0 2 1 2 1 2 2 2 1 0 0 1 0 0 2 2 1 2 2 1 0 2 2 1 1 1\n",
      " 1 1 2 2 2 1 0 0 0 1 0 2 0 1 0 1 1 1 2 0 2 0 0 0 1 1 0 2 1 0 0 2 2 0 1 1 2\n",
      " 1]\n",
      "0.9866666666666667\n"
     ]
    }
   ],
   "source": [
    "from sklearn import svm\n",
    "clf = svm.SVC(gamma = 0.001, C = 100)\n",
    "clf.fit(X_train, y_train)\n",
    "predictions = clf.predict(X_test)\n",
    "print(y_test)\n",
    "from sklearn.metrics import accuracy_score\n",
    "print(accuracy_score(y_test, predictions))"
   ]
  },
  {
   "cell_type": "markdown",
   "id": "940876a8",
   "metadata": {},
   "source": [
    "## KNN학습"
   ]
  },
  {
   "cell_type": "code",
   "execution_count": 11,
   "id": "78bba8f3",
   "metadata": {},
   "outputs": [],
   "source": [
    "from sklearn.datasets import load_iris\n",
    "iris = load_iris()\n",
    "# print(iris.data)\n",
    "\n",
    "from sklearn.model_selection import train_test_split\n",
    "\n",
    "X = iris.data\n",
    "y = iris.target\n",
    "\n",
    "# 80: 20으로 분할하기\n",
    "X_train, X_test, y_train, y_test = train_test_split(X,y,test_size = 0.2, random_state = 4)"
   ]
  },
  {
   "cell_type": "code",
   "execution_count": 25,
   "id": "a171107e",
   "metadata": {},
   "outputs": [
    {
     "data": {
      "text/plain": [
       "0.9666666666666667"
      ]
     },
     "execution_count": 25,
     "metadata": {},
     "output_type": "execute_result"
    }
   ],
   "source": [
    "from sklearn.neighbors import KNeighborsClassifier\n",
    "from sklearn import metrics\n",
    "\n",
    "knn = KNeighborsClassifier(n_neighbors = 6)\n",
    "knn.fit(X_train, y_train)\n",
    "\n",
    "y_pred = knn.predict(X_test)\n",
    "scores = metrics.accuracy_score(y_test, y_pred)\n",
    "scores"
   ]
  },
  {
   "cell_type": "code",
   "execution_count": 29,
   "id": "99b4eb9b",
   "metadata": {},
   "outputs": [
    {
     "name": "stdout",
     "output_type": "stream",
     "text": [
      "versicolor\n",
      "setosa\n"
     ]
    }
   ],
   "source": [
    "knn = KNeighborsClassifier(n_neighbors = 5)\n",
    "knn.fit(X,y)\n",
    "\n",
    "# 0 = setosa, 1 = versicolor, 2 = virginica\n",
    "classes = {0: 'setosa', 1: 'versicolor', 2: 'verginica'}\n",
    "\n",
    "# 아직 보지 못한 새로운 데이터 제시하기\n",
    "x_new = [[3, 4, 5, 2], [5, 4, 2, 2]]\n",
    "y_predict = knn.predict(x_new)\n",
    "\n",
    "print(classes[y_predict[0]])\n",
    "print(classes[y_predict[1]])"
   ]
  },
  {
   "cell_type": "code",
   "execution_count": null,
   "id": "d6486bc6",
   "metadata": {},
   "outputs": [],
   "source": []
  }
 ],
 "metadata": {
  "kernelspec": {
   "display_name": "Python 3",
   "language": "python",
   "name": "python3"
  },
  "language_info": {
   "codemirror_mode": {
    "name": "ipython",
    "version": 3
   },
   "file_extension": ".py",
   "mimetype": "text/x-python",
   "name": "python",
   "nbconvert_exporter": "python",
   "pygments_lexer": "ipython3",
   "version": "3.8.9"
  }
 },
 "nbformat": 4,
 "nbformat_minor": 5
}
